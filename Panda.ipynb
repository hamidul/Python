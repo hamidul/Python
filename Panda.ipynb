{
  "nbformat": 4,
  "nbformat_minor": 0,
  "metadata": {
    "colab": {
      "provenance": [],
      "authorship_tag": "ABX9TyNX5cjmaWyUdpQAlgf5Lqbp",
      "include_colab_link": true
    },
    "kernelspec": {
      "name": "python3",
      "display_name": "Python 3"
    },
    "language_info": {
      "name": "python"
    }
  },
  "cells": [
    {
      "cell_type": "markdown",
      "metadata": {
        "id": "view-in-github",
        "colab_type": "text"
      },
      "source": [
        "<a href=\"https://colab.research.google.com/github/hamidul/Python/blob/master/Panda.ipynb\" target=\"_parent\"><img src=\"https://colab.research.google.com/assets/colab-badge.svg\" alt=\"Open In Colab\"/></a>"
      ]
    },
    {
      "cell_type": "markdown",
      "source": [
        "**What is Pandas?**\n",
        "\n",
        "* Pandas is a Python library used for working with data sets.\n",
        "\n",
        "* It has functions for analyzing, cleaning, exploring, and manipulating data.\n",
        "\n",
        "* The name \"Pandas\" has a reference to both \"Panel Data\", and \"Python Data Analysis\" and was created by Wes McKinney in 2008."
      ],
      "metadata": {
        "id": "xqmgC9FWi-oo"
      }
    },
    {
      "cell_type": "code",
      "source": [
        "import pandas\n",
        "\n",
        "mydataset = {\n",
        "  'cars': [\"BMW\", \"Volvo\", \"Ford\"],\n",
        "  'passings': [3, 7, 2]\n",
        "}\n",
        "\n",
        "myvar = pandas.DataFrame(mydataset)\n",
        "\n",
        "print(myvar)"
      ],
      "metadata": {
        "colab": {
          "base_uri": "https://localhost:8080/"
        },
        "id": "djuiauoCjvZg",
        "outputId": "b57e354b-69f8-43e4-dd18-1569b01e52b6"
      },
      "execution_count": null,
      "outputs": [
        {
          "output_type": "stream",
          "name": "stdout",
          "text": [
            "    cars  passings\n",
            "0    BMW         3\n",
            "1  Volvo         7\n",
            "2   Ford         2\n"
          ]
        }
      ]
    },
    {
      "cell_type": "markdown",
      "source": [
        "**Pandas as pd**\n",
        "\n",
        "* Pandas is usually imported under the pd alias.\n",
        "\n",
        "* alias: In Python alias are an alternate name for referring to the same thing.\n",
        "\n",
        "* Create an alias with the as keyword while importing:\n",
        "\n",
        "* Example :\n",
        "\n",
        "```\n",
        "import pandas as pd\n",
        "```\n",
        "\n"
      ],
      "metadata": {
        "id": "3teh6SPQkBQZ"
      }
    },
    {
      "cell_type": "markdown",
      "source": [
        "**Checking Pandas Version:**"
      ],
      "metadata": {
        "id": "6ZYd5D9hkmE4"
      }
    },
    {
      "cell_type": "code",
      "source": [
        "import pandas as pd\n",
        "\n",
        "print(pd.__version__)"
      ],
      "metadata": {
        "colab": {
          "base_uri": "https://localhost:8080/"
        },
        "id": "Z8xQE7aYkoLh",
        "outputId": "1689e3cf-bfce-46be-a608-5bebc61f4360"
      },
      "execution_count": null,
      "outputs": [
        {
          "output_type": "stream",
          "name": "stdout",
          "text": [
            "1.5.3\n"
          ]
        }
      ]
    },
    {
      "cell_type": "markdown",
      "source": [
        "**Series?**\n",
        "\n",
        "* A Pandas Series is like a column in a table.\n",
        "\n",
        "* It is a one-dimensional array holding data of any type."
      ],
      "metadata": {
        "id": "4dZWaTMpk61_"
      }
    },
    {
      "cell_type": "markdown",
      "source": [
        "**Example:**\n",
        "\n",
        "Create a simple Pandas Series from a list:"
      ],
      "metadata": {
        "id": "RWi09tJWlHht"
      }
    },
    {
      "cell_type": "code",
      "source": [
        "import pandas as pd\n",
        "\n",
        "a = [1, 7, 2]\n",
        "\n",
        "myvar = pd.Series(a)\n",
        "\n",
        "print(myvar)"
      ],
      "metadata": {
        "colab": {
          "base_uri": "https://localhost:8080/"
        },
        "id": "aaN_YgzFlLzf",
        "outputId": "cf029786-fb1c-45b0-ffbc-da9ede105d23"
      },
      "execution_count": null,
      "outputs": [
        {
          "output_type": "stream",
          "name": "stdout",
          "text": [
            "0    1\n",
            "1    7\n",
            "2    2\n",
            "dtype: int64\n"
          ]
        }
      ]
    },
    {
      "cell_type": "markdown",
      "source": [
        "**Labels:**\n",
        "\n",
        "* If nothing else is specified, the values are labeled with their index number.\n",
        "* First value has index 0, second value has index 1 etc.\n",
        "\n",
        "* This label can be used to access a specified value.\n",
        "\n",
        "**Example:**\n",
        "\n",
        "Return the first value of the Series:"
      ],
      "metadata": {
        "id": "B3DPzJOklXO-"
      }
    },
    {
      "cell_type": "code",
      "source": [
        "print(myvar[0])"
      ],
      "metadata": {
        "colab": {
          "base_uri": "https://localhost:8080/"
        },
        "id": "nADIeVZqlqEg",
        "outputId": "0e188b6f-1372-482e-cff7-9e8ce70af0a6"
      },
      "execution_count": null,
      "outputs": [
        {
          "output_type": "stream",
          "name": "stdout",
          "text": [
            "1\n"
          ]
        }
      ]
    },
    {
      "cell_type": "markdown",
      "source": [
        "**Create Labels:**\n",
        "\n",
        "With the index argument, you can name your own labels."
      ],
      "metadata": {
        "id": "BBbmHldhmVjr"
      }
    },
    {
      "cell_type": "code",
      "source": [
        "import pandas as pd\n",
        "\n",
        "a = [1, 7, 2]\n",
        "\n",
        "myvar = pd.Series(a, index = [\"x\", \"y\", \"z\"])\n",
        "\n",
        "print(myvar)\n",
        "# Access element with the label\n",
        "print(\"The second element : \",myvar[\"y\"])"
      ],
      "metadata": {
        "colab": {
          "base_uri": "https://localhost:8080/"
        },
        "id": "Ec6Er-FXmdhZ",
        "outputId": "198dd1cd-bba1-4c9b-cc6c-4d6eae16cbdd"
      },
      "execution_count": null,
      "outputs": [
        {
          "output_type": "stream",
          "name": "stdout",
          "text": [
            "x    1\n",
            "y    7\n",
            "z    2\n",
            "dtype: int64\n",
            "The second element :  7\n"
          ]
        }
      ]
    },
    {
      "cell_type": "markdown",
      "source": [
        "**Key/Value Objects as Series:**\n",
        "\n",
        "You can also use a key/value object, like a dictionary, when creating a Series."
      ],
      "metadata": {
        "id": "wdfKuB8qm71s"
      }
    },
    {
      "cell_type": "code",
      "source": [
        "# Note: The keys of the dictionary become the labels.\n",
        "import pandas as pd\n",
        "\n",
        "calories = {\"day1\": 420, \"day2\": 380, \"day3\": 390}\n",
        "\n",
        "myvar = pd.Series(calories)\n",
        "\n",
        "print(myvar)"
      ],
      "metadata": {
        "colab": {
          "base_uri": "https://localhost:8080/"
        },
        "id": "XWoY8XBAm_pO",
        "outputId": "27bf2932-1987-4d43-97e5-233cf1fa13ef"
      },
      "execution_count": null,
      "outputs": [
        {
          "output_type": "stream",
          "name": "stdout",
          "text": [
            "day1    420\n",
            "day2    380\n",
            "day3    390\n",
            "dtype: int64\n"
          ]
        }
      ]
    },
    {
      "cell_type": "code",
      "source": [
        "# Example\n",
        "# Create a Series using only data from \"day1\" and \"day2\":\n",
        "\n",
        "import pandas as pd\n",
        "\n",
        "calories = {\"day1\": 420, \"day2\": 380, \"day3\": 390}\n",
        "\n",
        "myvar = pd.Series(calories, index = [\"day1\", \"day2\"])\n",
        "\n",
        "print(myvar)"
      ],
      "metadata": {
        "colab": {
          "base_uri": "https://localhost:8080/"
        },
        "id": "0hiDSoj4nrhW",
        "outputId": "29ee4aca-4fa2-44f8-b05b-270afd92e4ea"
      },
      "execution_count": null,
      "outputs": [
        {
          "output_type": "stream",
          "name": "stdout",
          "text": [
            "day1    420\n",
            "day2    380\n",
            "dtype: int64\n"
          ]
        }
      ]
    },
    {
      "cell_type": "markdown",
      "source": [
        "**DataFrames:**\n",
        "\n",
        "* Data sets in Pandas are usually multi-dimensional tables, called DataFrames.\n",
        "\n",
        "* Series is like a column, a DataFrame is the whole table."
      ],
      "metadata": {
        "id": "8kyzVJ-nn2gj"
      }
    },
    {
      "cell_type": "code",
      "source": [
        "import pandas as pd\n",
        "\n",
        "data = {\n",
        "  \"calories\": [420, 380, 390],\n",
        "  \"duration\": [50, 40, 45]\n",
        "}\n",
        "\n",
        "myvar = pd.DataFrame(data)\n",
        "\n",
        "print(myvar)"
      ],
      "metadata": {
        "colab": {
          "base_uri": "https://localhost:8080/"
        },
        "id": "TxYbEx_kn8Ng",
        "outputId": "c6259955-5338-4969-99dc-0aec23e0466a"
      },
      "execution_count": null,
      "outputs": [
        {
          "output_type": "stream",
          "name": "stdout",
          "text": [
            "   calories  duration\n",
            "0       420        50\n",
            "1       380        40\n",
            "2       390        45\n"
          ]
        }
      ]
    },
    {
      "cell_type": "markdown",
      "source": [
        "**Locate Row:**\n",
        "\n",
        "* As you can see from the result above, the DataFrame is like a table with rows and columns.\n",
        "\n",
        "* Pandas use the **loc** attribute to return one or more specified row(s)"
      ],
      "metadata": {
        "id": "p5OZ8ou6oUSh"
      }
    },
    {
      "cell_type": "code",
      "source": [
        "#refer to the row index:\n",
        "print(myvar.loc[2])"
      ],
      "metadata": {
        "colab": {
          "base_uri": "https://localhost:8080/"
        },
        "id": "YjdBqw2TolB7",
        "outputId": "7ae05d0d-5256-4a34-9d15-365efa8687bb"
      },
      "execution_count": null,
      "outputs": [
        {
          "output_type": "stream",
          "name": "stdout",
          "text": [
            "calories    390\n",
            "duration     45\n",
            "Name: 2, dtype: int64\n"
          ]
        }
      ]
    },
    {
      "cell_type": "code",
      "source": [
        "#use a list of indexes\n",
        "# Return row 0 and 1:\n",
        "print(myvar.loc[[0, 1]])"
      ],
      "metadata": {
        "colab": {
          "base_uri": "https://localhost:8080/"
        },
        "id": "yOZY7waFqO6S",
        "outputId": "7716458b-5adb-4deb-ee9c-c2912fb4e969"
      },
      "execution_count": null,
      "outputs": [
        {
          "output_type": "stream",
          "name": "stdout",
          "text": [
            "   calories  duration\n",
            "0       420        50\n",
            "1       380        40\n"
          ]
        }
      ]
    },
    {
      "cell_type": "markdown",
      "source": [
        "**Access row using the named index:**"
      ],
      "metadata": {
        "id": "CnO9hxsvrXnn"
      }
    },
    {
      "cell_type": "code",
      "source": [
        "import pandas as pd\n",
        "\n",
        "data = {\n",
        "  \"calories\": [420, 380, 390],\n",
        "  \"duration\": [50, 40, 45]\n",
        "}\n",
        "\n",
        "df = pd.DataFrame(data, index = [\"day1\", \"day2\", \"day3\"])\n",
        "\n",
        "print(df.loc[\"day2\"])"
      ],
      "metadata": {
        "colab": {
          "base_uri": "https://localhost:8080/"
        },
        "id": "0ny2Rgwfqu-t",
        "outputId": "96f53ee0-7778-4e41-ab04-236198bb3651"
      },
      "execution_count": null,
      "outputs": [
        {
          "output_type": "stream",
          "name": "stdout",
          "text": [
            "calories    380\n",
            "duration     40\n",
            "Name: day2, dtype: int64\n"
          ]
        }
      ]
    }
  ]
}